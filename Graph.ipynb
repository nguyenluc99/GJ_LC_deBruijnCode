{
 "cells": [
  {
   "cell_type": "code",
   "execution_count": 7,
   "id": "09cef873",
   "metadata": {},
   "outputs": [
    {
     "name": "stdout",
     "output_type": "stream",
     "text": [
      "Graph.ipynb          mainMulti.cpp        \u001b[1m\u001b[36mpythonSolver\u001b[m\u001b[m\n",
      "Makefile             main_5_4.txt         \u001b[1m\u001b[36mresults\u001b[m\u001b[m\n",
      "README.md            \u001b[31mmain_feat\u001b[m\u001b[m            solver.cpp\n",
      "\u001b[31ma.out\u001b[m\u001b[m                main_feature.cpp     solver.hpp\n",
      "\u001b[1m\u001b[36mfigures\u001b[m\u001b[m              \u001b[31mmain_noOptimize\u001b[m\u001b[m      solver.o\n",
      "graph.py             main_noopt_5_4_2.txt \u001b[1m\u001b[36mtemp\u001b[m\u001b[m\n",
      "main.cpp             main_noopt_5_4_3.txt test.cpp\n",
      "\u001b[31mmain0\u001b[m\u001b[m                main_noopt_5_5_3.txt test.hpp\n",
      "\u001b[31mmain1\u001b[m\u001b[m                main_noopt_5_6.txt   test.o\n",
      "main1_4_18.txt       main_noopt_5_6_3.txt util.cpp\n",
      "main1_5_4.txt        main_noopt_5_7.txt   util.hpp\n",
      "main1_5_5.txt        \u001b[31mmain_opt_submat\u001b[m\u001b[m      util.o\n",
      "\u001b[31mmainMul\u001b[m\u001b[m              mytest.cpp\n",
      "Graph.ipynb          \u001b[31mmainMul\u001b[m\u001b[m              mytest.cpp\n",
      "Makefile             mainMulti.cpp        \u001b[1m\u001b[36mpythonSolver\u001b[m\u001b[m\n",
      "README.md            main_5_4.txt         \u001b[1m\u001b[36mresults\u001b[m\u001b[m\n",
      "\u001b[31ma.out\u001b[m\u001b[m                \u001b[31mmain_feat\u001b[m\u001b[m            solver.cpp\n",
      "\u001b[1m\u001b[36mfigures\u001b[m\u001b[m              main_feature.cpp     solver.hpp\n",
      "\u001b[1m\u001b[36mfigures200\u001b[m\u001b[m           \u001b[31mmain_noOptimize\u001b[m\u001b[m      solver.o\n",
      "graph.py             main_noopt_5_4_2.txt \u001b[1m\u001b[36mtemp\u001b[m\u001b[m\n",
      "main.cpp             main_noopt_5_4_3.txt test.cpp\n",
      "\u001b[31mmain0\u001b[m\u001b[m                main_noopt_5_5_3.txt test.hpp\n",
      "\u001b[31mmain1\u001b[m\u001b[m                main_noopt_5_6.txt   test.o\n",
      "main1_4_18.txt       main_noopt_5_6_3.txt util.cpp\n",
      "main1_5_4.txt        main_noopt_5_7.txt   util.hpp\n",
      "main1_5_5.txt        \u001b[31mmain_opt_submat\u001b[m\u001b[m      util.o\n"
     ]
    }
   ],
   "source": [
    "!ls\n",
    "!mkdir figures200\n",
    "!ls"
   ]
  },
  {
   "cell_type": "code",
   "execution_count": 2,
   "id": "1076464b",
   "metadata": {},
   "outputs": [],
   "source": [
    "import pandas as pd\n",
    "import matplotlib.pyplot as plt\n",
    "import numpy as np"
   ]
  },
  {
   "cell_type": "code",
   "execution_count": 3,
   "id": "15fbc120",
   "metadata": {},
   "outputs": [],
   "source": [
    "def drawConvergenceLine(b, k, rate):\n",
    "# b, k, rate = 3, 2, 0.4056\n",
    "    path = 'results/resultb' + str(b) + 'k' + str(k) + '.txt'\n",
    "    with open(path) as f:\n",
    "        contents = f.readlines()\n",
    "    bits, rates = list(), list()\n",
    "    for c in contents[1:]:\n",
    "        val = c.strip().split(':')\n",
    "        if(val[2] != 'nan'):\n",
    "            bits.append(int(val[0]))\n",
    "            rates.append(float(val[2]))\n",
    "\n",
    "    plt.clf()\n",
    "    plt.plot(bits, rates, color='blue', label='Our rate')\n",
    "    plt.ylabel('rate')\n",
    "    plt.xlabel('bits')\n",
    "    plt.ylim([0,1.1])\n",
    "    plt.axhline(y=rate, xmin=0, xmax=1, color='red', linestyle='--', label='Original rate')\n",
    "    plt.legend()\n",
    "    return plt"
   ]
  },
  {
   "cell_type": "code",
   "execution_count": 6,
   "id": "e9db4ad1",
   "metadata": {},
   "outputs": [
    {
     "data": {
      "image/png": "[encoded data removed]",
      "text/plain": [
       "<Figure size 432x288 with 1 Axes>"
      ]
     },
     "metadata": {
      "needs_background": "light"
     },
     "output_type": "display_data"
    }
   ],
   "source": [
    "results = [[3, 2, 0.4056], [3, 3, 0.7946], [4, 3, 0.6341], [4, 4, 0.8600], [4, 5, 0.9392]]\n",
    "for (b, k, rate) in results:\n",
    "    plot = drawConvergenceLine(b, k, rate)\n",
    "    plot.savefig('figures/rateb' + str(b) + 'k' + str(k) + '.png', dpi=500)\n",
    "#     break"
   ]
  },
  {
   "cell_type": "code",
   "execution_count": 155,
   "id": "b48dcbf6",
   "metadata": {},
   "outputs": [],
   "source": [
    "!open .\n"
   ]
  },
  {
   "cell_type": "code",
   "execution_count": 4,
   "id": "56371033",
   "metadata": {},
   "outputs": [],
   "source": [
    "def drawConvergenceLine200(b, k, rate):\n",
    "# b, k, rate = 3, 2, 0.4056\n",
    "    path = 'pythonSolver/rate/rate_' + str(b) + str(k) + '.txt'\n",
    "    with open(path) as f:\n",
    "        contents = f.readlines()\n",
    "    bits, rates = list(), list()\n",
    "    for c in contents[1:]:\n",
    "        val = c.strip().split(':')\n",
    "        if(val[2] != 'nan'):\n",
    "            bits.append(int(val[0]))\n",
    "            rates.append(float(val[2]))\n",
    "\n",
    "    plt.clf()\n",
    "    plt.plot(bits, rates, color='blue', label='Our rate')\n",
    "    plt.ylabel('rate')\n",
    "    plt.xlabel('bits')\n",
    "    plt.ylim([0,1.1])\n",
    "    plt.axhline(y=rate, xmin=0, xmax=1, color='red', linestyle='--', label='Original rate')\n",
    "    plt.legend()\n",
    "    return plt"
   ]
  },
  {
   "cell_type": "code",
   "execution_count": 9,
   "id": "e44d3d79",
   "metadata": {},
   "outputs": [
    {
     "data": {
      "image/png": "[encoded data removed]",
      "text/plain": [
       "<Figure size 432x288 with 1 Axes>"
      ]
     },
     "metadata": {
      "needs_background": "light"
     },
     "output_type": "display_data"
    }
   ],
   "source": [
    "results = [\n",
    "           [3, 2, 0.4056],\n",
    "#            [3, 3, 0.7946],\n",
    "           [4, 3, 0.6341],\n",
    "#            [4, 4, 0.8600],\n",
    "           [4, 5, 0.9392],\n",
    "           [5, 3, 0.4709],\n",
    "           [5, 5, 0.9150],\n",
    "#            [5, 6, 0.9615]\n",
    "           [5, 7, 0.9818]\n",
    "#            [5, 9, 0.9957]\n",
    "          ]\n",
    "for (b, k, rate) in results:\n",
    "    plot = drawConvergenceLine200(b, k, rate)\n",
    "    plot.savefig('figures200/rateb' + str(b) + 'k' + str(k) + '.png', dpi=500)\n",
    "#     break"
   ]
  },
  {
   "cell_type": "code",
   "execution_count": 10,
   "id": "b5cd8f5b",
   "metadata": {},
   "outputs": [],
   "source": [
    "!open ."
   ]
  },
  {
   "cell_type": "code",
   "execution_count": null,
   "id": "ac3a33da",
   "metadata": {},
   "outputs": [],
   "source": []
  }
 ],
 "metadata": {
  "kernelspec": {
   "display_name": "Python 3",
   "language": "python",
   "name": "python3"
  },
  "language_info": {
   "codemirror_mode": {
    "name": "ipython",
    "version": 3
   },
   "file_extension": ".py",
   "mimetype": "text/x-python",
   "name": "python",
   "nbconvert_exporter": "python",
   "pygments_lexer": "ipython3",
   "version": "3.7.10"
  }
 },
 "nbformat": 4,
 "nbformat_minor": 5
}
