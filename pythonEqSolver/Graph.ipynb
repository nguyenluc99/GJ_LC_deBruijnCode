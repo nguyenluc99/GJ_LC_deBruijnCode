{
 "cells": [
  {
   "cell_type": "code",
   "execution_count": null,
   "id": "b8125105",
   "metadata": {},
   "outputs": [],
   "source": [
    "!rm -rf figures\n",
    "!mkdir -p figures"
   ]
  },
  {
   "cell_type": "code",
   "execution_count": null,
   "id": "1076464b",
   "metadata": {},
   "outputs": [],
   "source": [
    "import pandas as pd\n",
    "import matplotlib.pyplot as plt\n",
    "import numpy as np"
   ]
  },
  {
   "cell_type": "code",
   "execution_count": null,
   "id": "56371033",
   "metadata": {},
   "outputs": [],
   "source": [
    "def drawConvergenceLine200(b, k, rate):\n",
    "# b, k, rate = 3, 2, 0.4056\n",
    "    path = './rate/rate_' + str(b) + str(k) + '.txt'\n",
    "    with open(path) as f:\n",
    "        contents = f.readlines()\n",
    "    bits, rates = list(), list()\n",
    "    for c in contents[1:]:\n",
    "        val = c.strip().split(':')\n",
    "        if(val[2] != 'nan'):\n",
    "            bits.append(int(val[0]))\n",
    "            rates.append(float(val[2]))\n",
    "\n",
    "    plt.clf()\n",
    "    plt.plot(bits, rates, color='blue', label='Our rate')\n",
    "    plt.ylabel('rate')\n",
    "    plt.xlabel('bits')\n",
    "    plt.ylim([0,1.1])\n",
    "    plt.axhline(y=rate, xmin=0, xmax=1, color='red', linestyle='--', label='Original rate')\n",
    "    plt.legend()\n",
    "    return plt"
   ]
  },
  {
   "cell_type": "code",
   "execution_count": null,
   "id": "e44d3d79",
   "metadata": {},
   "outputs": [],
   "source": [
    "results = [\n",
    "           [3, 2, 0.4056],\n",
    "           [3, 3, 0.7946],\n",
    "           [4, 3, 0.6341],\n",
    "           [4, 4, 0.8600],\n",
    "           [4, 5, 0.9392],\n",
    "           [4, 6, 0.9719],\n",
    "           [5, 3, 0.4709],\n",
    "           [5, 4, 0.7973],\n",
    "           [5, 5, 0.9150],\n",
    "           [5, 6, 0.9615],\n",
    "           [5, 7, 0.9818],\n",
    "           [5, 9, 0.9957]\n",
    "          ]\n",
    "\n",
    "for (b, k, rate) in results:\n",
    "    plot = drawConvergenceLine200(b, k, rate)\n",
    "    plot.savefig('figures/rateb' + str(b) + 'k' + str(k) + '.png', dpi=500)\n",
    "#     break"
   ]
  },
  {
   "cell_type": "code",
   "execution_count": null,
   "id": "ac3a33da",
   "metadata": {},
   "outputs": [],
   "source": []
  }
 ],
 "metadata": {
  "kernelspec": {
   "display_name": "Python 3",
   "language": "python",
   "name": "python3"
  },
  "language_info": {
   "codemirror_mode": {
    "name": "ipython",
    "version": 3
   },
   "file_extension": ".py",
   "mimetype": "text/x-python",
   "name": "python",
   "nbconvert_exporter": "python",
   "pygments_lexer": "ipython3",
   "version": "3.7.10"
  }
 },
 "nbformat": 4,
 "nbformat_minor": 5
}
